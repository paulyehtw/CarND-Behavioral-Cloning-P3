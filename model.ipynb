{
 "cells": [
  {
   "cell_type": "code",
   "execution_count": 1,
   "metadata": {},
   "outputs": [],
   "source": [
    "import sklearn\n",
    "import numpy as np"
   ]
  },
  {
   "cell_type": "code",
   "execution_count": 2,
   "metadata": {},
   "outputs": [],
   "source": [
    "def loadSamples(sample_path):\n",
    "    '''\n",
    "    Loads the CSV sample data\n",
    "    '''\n",
    "    import csv\n",
    "    samples = []\n",
    "    with open(sample_path + '/driving_log.csv') as csvfile:\n",
    "        reader = csv.reader(csvfile)\n",
    "        for line in reader:\n",
    "            samples.append(line)\n",
    "    return samples"
   ]
  },
  {
   "cell_type": "code",
   "execution_count": 3,
   "metadata": {},
   "outputs": [],
   "source": [
    "def extractSamples(samples, data_path):\n",
    "    '''\n",
    "    Extracts needed training data and corresponding measurements\n",
    "    '''\n",
    "    image_paths = []\n",
    "    measurements = []\n",
    "    for line in samples:\n",
    "        image_paths.append(data_path + '/' +line[0])    # center_image column\n",
    "        measurements.append(line[3])                    # steering column\n",
    "    return image_paths, measurements"
   ]
  },
  {
   "cell_type": "code",
   "execution_count": 4,
   "metadata": {},
   "outputs": [],
   "source": [
    "import cv2\n",
    "def generator(samples, batch_size=32):\n",
    "    '''\n",
    "    Generate shuffled batch samples on the fly\n",
    "    '''\n",
    "    num_samples = len(samples)\n",
    "    while 1: # Loop forever so the generator never terminates\n",
    "        samples = sklearn.utils.shuffle(samples)\n",
    "        for offset in range(0, num_samples, batch_size):\n",
    "            batch_samples = samples[offset:offset+batch_size]\n",
    "            images = []\n",
    "            steerings = []\n",
    "            for image_path, measurement in batch_samples:\n",
    "                image = cv2.imread(image_path)\n",
    "                image = cv2.cvtColor(image, cv2.COLOR_BGR2RGB)\n",
    "                images.append(image)\n",
    "                steerings.append(float(measurement))\n",
    "\n",
    "            # trim image to only see section with road\n",
    "            X = np.array(images)\n",
    "            y = np.array(steerings)\n",
    "            yield sklearn.utils.shuffle(X, y)"
   ]
  },
  {
   "cell_type": "code",
   "execution_count": 5,
   "metadata": {},
   "outputs": [],
   "source": [
    "data_path = './recording'\n",
    "csvData = loadSamples(data_path)\n",
    "image_paths, measurements = extractSamples(csvData, data_path)\n",
    "samples = list(zip(image_paths, measurements))"
   ]
  },
  {
   "cell_type": "code",
   "execution_count": 12,
   "metadata": {},
   "outputs": [
    {
     "output_type": "stream",
     "name": "stdout",
     "text": "Train samples: 108\nValidation samples: 28\n"
    }
   ],
   "source": [
    "from sklearn.model_selection import train_test_split\n",
    "train_samples, validation_samples = sklearn.model_selection.train_test_split(samples, test_size=0.2)\n",
    "print('Train samples: {}'.format(len(train_samples)))\n",
    "print('Validation samples: {}'.format(len(validation_samples)))"
   ]
  },
  {
   "cell_type": "code",
   "execution_count": 13,
   "metadata": {},
   "outputs": [],
   "source": [
    "# Set our batch size\n",
    "batch_size=32\n",
    "\n",
    "# compile and train the model using the generator function\n",
    "train_generator = generator(train_samples, batch_size=batch_size)\n",
    "validation_generator = generator(validation_samples, batch_size=batch_size)"
   ]
  },
  {
   "cell_type": "code",
   "execution_count": 14,
   "metadata": {},
   "outputs": [],
   "source": [
    "def nvidiaCNN(input_shape):\n",
    "    '''\n",
    "    Define the Nvidia End-to-End CNN architecture\n",
    "    '''\n",
    "    from keras.models import Sequential, Model\n",
    "    from keras.layers import Lambda, Cropping2D, Convolution2D, Flatten, Dense\n",
    "    model = Sequential()\n",
    "    print(\"Input shape : {}\".format(input_shape))\n",
    "    # First normalize the input image with Lambda layer\n",
    "    model.add(Lambda(lambda x: (x / 255.0) - 0.5, input_shape=input_shape))\n",
    "    print(\"Lambda layer output shape : {}\".format(model.layers[-1].output_shape[1:]))\n",
    "\n",
    "    # Crop the usefule area\n",
    "    model.add(Cropping2D(cropping=((70,25), (0,0))))\n",
    "    print(\"Cropping layer output shape : {}\".format(model.layers[-1].output_shape[1:]))\n",
    "\n",
    "    # 1st Convolution layer\n",
    "    model.add(Convolution2D(24,5,5, subsample=(2,2), activation='relu'))\n",
    "    print(\"1st Convolution layer output shape : {}\".format(model.layers[-1].output_shape[1:]))\n",
    "\n",
    "    # 2nd Convolution layer\n",
    "    model.add(Convolution2D(36,5,5, subsample=(2,2), activation='relu'))  \n",
    "    print(\"2nd Convolution layer output shape : {}\".format(model.layers[-1].output_shape[1:]))\n",
    "\n",
    "    # 3rd Convolution layer\n",
    "    model.add(Convolution2D(48,5,5, subsample=(2,2), activation='relu'))\n",
    "    print(\"3rd Convolution layer output shape : {}\".format(model.layers[-1].output_shape[1:]))\n",
    "\n",
    "    # 4th Convolution layer\n",
    "    model.add(Convolution2D(64,3,3, activation='relu'))\n",
    "    print(\"4th Convolution layer output shape : {}\".format(model.layers[-1].output_shape[1:]))\n",
    "\n",
    "    # 5th Convolution layer\n",
    "    model.add(Convolution2D(64,3,3, activation='relu'))\n",
    "    print(\"5th Convolution layer output shape : {}\".format(model.layers[-1].output_shape[1:]))\n",
    "\n",
    "    # Flatten layer\n",
    "    model.add(Flatten())\n",
    "    print(\"Flatten layer output shape : {}\".format(model.layers[-1].output_shape[1:]))\n",
    "\n",
    "    # 1st Fully connected layer\n",
    "    model.add(Dense(100))\n",
    "    print(\"1st Fully connected layer output shape : {}\".format(model.layers[-1].output_shape[1:]))\n",
    "\n",
    "    # 2nd Fully connected layer\n",
    "    model.add(Dense(50))\n",
    "    print(\"2nd Fully connected layer output shape : {}\".format(model.layers[-1].output_shape[1:]))\n",
    "\n",
    "    # 3rd Fully connected layer\n",
    "    model.add(Dense(10))\n",
    "    print(\"3rd Fully connected layer output shape : {}\".format(model.layers[-1].output_shape[1:]))\n",
    "\n",
    "    # Output layer\n",
    "    model.add(Dense(1))\n",
    "    print(\"Output layer output shape : {}\".format(model.layers[-1].output_shape[1:]))\n",
    "    return model\n"
   ]
  },
  {
   "cell_type": "code",
   "execution_count": 15,
   "metadata": {},
   "outputs": [
    {
     "output_type": "stream",
     "name": "stdout",
     "text": "Input shape : (160, 320, 3)\nLambda layer output shape : (160, 320, 3)\nCropping layer output shape : (65, 320, 3)\n1st Convolution layer output shape : (31, 158, 24)\n2nd Convolution layer output shape : (14, 77, 36)\n3rd Convolution layer output shape : (5, 37, 48)\n4th Convolution layer output shape : (3, 35, 64)\n5th Convolution layer output shape : (1, 33, 64)\nFlatten layer output shape : (2112,)\n1st Fully connected layer output shape : (100,)\n2nd Fully connected layer output shape : (50,)\n3rd Fully connected layer output shape : (10,)\nOutput layer output shape : (1,)\n"
    }
   ],
   "source": [
    "raw_image_shape = (160,320,3)\n",
    "model = nvidiaCNN(raw_image_shape)"
   ]
  },
  {
   "cell_type": "code",
   "execution_count": 16,
   "metadata": {},
   "outputs": [],
   "source": [
    "model.compile(loss='mse', optimizer='adam')"
   ]
  },
  {
   "cell_type": "code",
   "execution_count": 18,
   "metadata": {},
   "outputs": [
    {
     "output_type": "stream",
     "name": "stdout",
     "text": "Epoch 1/1\n108/108 [==============================] - 21s 194ms/step - loss: 5.4155e-04 - val_loss: 0.0851\n"
    }
   ],
   "source": [
    "history_object = model.fit_generator(train_generator, samples_per_epoch= \\\n",
    "                 len(train_samples), validation_data=validation_generator, \\\n",
    "                 nb_val_samples=len(validation_samples), nb_epoch=1, verbose=1)\n",
    "model.save('model.h5')"
   ]
  },
  {
   "cell_type": "code",
   "execution_count": null,
   "metadata": {},
   "outputs": [],
   "source": []
  }
 ],
 "metadata": {
  "language_info": {
   "codemirror_mode": {
    "name": "ipython",
    "version": 3
   },
   "file_extension": ".py",
   "mimetype": "text/x-python",
   "name": "python",
   "nbconvert_exporter": "python",
   "pygments_lexer": "ipython3",
   "version": "3.8.3-final"
  },
  "orig_nbformat": 2,
  "kernelspec": {
   "name": "python38364bitb76e2e8385824c4dabacabbab98ed631",
   "display_name": "Python 3.8.3 64-bit"
  }
 },
 "nbformat": 4,
 "nbformat_minor": 2
}