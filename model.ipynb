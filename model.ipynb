{
 "cells": [
  {
   "cell_type": "code",
   "execution_count": 1,
   "metadata": {},
   "outputs": [],
   "source": [
    "import sklearn\n",
    "import numpy as np"
   ]
  },
  {
   "cell_type": "code",
   "execution_count": 2,
   "metadata": {},
   "outputs": [],
   "source": [
    "def loadSamples(sample_path):\n",
    "    '''\n",
    "    Loads the CSV sample data\n",
    "    '''\n",
    "    import csv\n",
    "    samples = []\n",
    "    with open(sample_path + '/driving_log.csv') as csvfile:\n",
    "        reader = csv.reader(csvfile)\n",
    "        for line in reader:\n",
    "            samples.append(line)\n",
    "    return samples"
   ]
  },
  {
   "cell_type": "code",
   "execution_count": 3,
   "metadata": {},
   "outputs": [],
   "source": [
    "def extractSamples(samples, data_path):\n",
    "    '''\n",
    "    Extracts needed training data and corresponding measurements\n",
    "    '''\n",
    "    image_paths = []\n",
    "    measurements = []\n",
    "    for line in samples:\n",
    "        image_paths.append(data_path + '/' +line[0])    # center_image column\n",
    "        measurements.append(line[3])                    # steering column\n",
    "    return image_paths, measurements"
   ]
  },
  {
   "cell_type": "code",
   "execution_count": 4,
   "metadata": {},
   "outputs": [],
   "source": [
    "import cv2\n",
    "def generator(samples, batch_size=32):\n",
    "    '''\n",
    "    Generate shuffled batch samples on the fly\n",
    "    '''\n",
    "    num_samples = len(samples)\n",
    "    while 1: # Loop forever so the generator never terminates\n",
    "        samples = sklearn.utils.shuffle(samples)\n",
    "        for offset in range(0, num_samples, batch_size):\n",
    "            batch_samples = samples[offset:offset+batch_size]\n",
    "            images = []\n",
    "            steerings = []\n",
    "            for image_path, measurement in batch_samples:\n",
    "                image = cv2.imread(image_path)\n",
    "                images.append(image)\n",
    "                steerings.append(float(measurement))\n",
    "\n",
    "                # Flip the image horizontally\n",
    "                images.append(cv2.flip(image, 1))\n",
    "                steerings.append(-1.0*float(measurement))\n",
    "                \n",
    "            X = np.array(images)\n",
    "            y = np.array(steerings)\n",
    "            yield sklearn.utils.shuffle(X, y)"
   ]
  },
  {
   "cell_type": "code",
   "execution_count": 5,
   "metadata": {},
   "outputs": [],
   "source": [
    "data_path = '../data'\n",
    "csvData = loadSamples(data_path)\n",
    "image_paths, measurements = extractSamples(csvData, data_path)\n",
    "samples = list(zip(image_paths, measurements))"
   ]
  },
  {
   "cell_type": "code",
   "execution_count": 6,
   "metadata": {},
   "outputs": [
    {
     "output_type": "stream",
     "name": "stdout",
     "text": "(160, 320, 3)\n"
    }
   ],
   "source": [
    "import matplotlib.pyplot as plt\n",
    "image_paths, measurements = extractSamples(csvData, data_path)\n",
    "image = cv2.imread(image_paths[0])\n",
    "top_crop = 60\n",
    "bottom_crop = 25\n",
    "left_crop = 0\n",
    "right_crop = 0\n",
    "image = cv2.rectangle(image, (left_crop,160-bottom_crop), (320 - right_crop, top_crop), color = (255, 0, 0) , thickness = 2)\n",
    "print(image.shape)\n",
    "cv2.imwrite('./demo_images/cropped.png', image)\n",
    "cv2.imshow('image', image)\n",
    "cv2.waitKey(0)\n",
    "cv2.destroyAllWindows()"
   ]
  },
  {
   "cell_type": "code",
   "execution_count": 7,
   "metadata": {},
   "outputs": [
    {
     "output_type": "stream",
     "name": "stdout",
     "text": "Train samples: 6428\nValidation samples: 1608\n"
    }
   ],
   "source": [
    "from sklearn.model_selection import train_test_split\n",
    "train_samples, validation_samples = sklearn.model_selection.train_test_split(samples, test_size=0.2)\n",
    "print('Train samples: {}'.format(len(train_samples)))\n",
    "print('Validation samples: {}'.format(len(validation_samples)))"
   ]
  },
  {
   "cell_type": "code",
   "execution_count": 8,
   "metadata": {},
   "outputs": [],
   "source": [
    "# Set our batch size\n",
    "batch_size=32\n",
    "\n",
    "# compile and train the model using the generator function\n",
    "train_generator = generator(train_samples, batch_size=batch_size)\n",
    "validation_generator = generator(validation_samples, batch_size=batch_size)"
   ]
  },
  {
   "cell_type": "code",
   "execution_count": 9,
   "metadata": {},
   "outputs": [],
   "source": [
    "def nvidiaCNN(input_shape):\n",
    "    '''\n",
    "    Define the Nvidia End-to-End CNN architecture\n",
    "    '''\n",
    "    from keras.models import Sequential, Model\n",
    "    from keras.layers import Lambda, Cropping2D, Convolution2D, Flatten, Dense\n",
    "    model = Sequential()\n",
    "    # First normalize the input image with Lambda layer\n",
    "    model.add(Lambda(lambda x: (x / 255.0) - 0.5, input_shape=input_shape))\n",
    "    # Crop the usefule area\n",
    "    model.add(Cropping2D(cropping=((60,25), (0,0))))\n",
    "    # 1st Convolution layer\n",
    "    model.add(Convolution2D(24,5,5, subsample=(2,2), activation='relu'))\n",
    "    # 2nd Convolution layer\n",
    "    model.add(Convolution2D(36,5,5, subsample=(2,2), activation='relu'))  \n",
    "    # 3rd Convolution layer\n",
    "    model.add(Convolution2D(48,5,5, subsample=(2,2), activation='relu'))\n",
    "    # 4th Convolution layer\n",
    "    model.add(Convolution2D(64,3,3, activation='relu'))\n",
    "    # 5th Convolution layer\n",
    "    model.add(Convolution2D(64,3,3, activation='relu'))\n",
    "    # Flatten layer\n",
    "    model.add(Flatten())\n",
    "    # 1st Fully connected layer\n",
    "    model.add(Dense(100))\n",
    "    # 2nd Fully connected layer\n",
    "    model.add(Dense(50))\n",
    "    # 3rd Fully connected layer\n",
    "    model.add(Dense(10))\n",
    "    # Output layer\n",
    "    model.add(Dense(1))\n",
    "    print(\"Model Summary : \\n\")\n",
    "    model.summary()\n",
    "    return model\n"
   ]
  },
  {
   "cell_type": "code",
   "execution_count": 10,
   "metadata": {},
   "outputs": [
    {
     "output_type": "stream",
     "name": "stderr",
     "text": "Using TensorFlow backend.\nModel Summary : \n\nModel: \"sequential_1\"\n_________________________________________________________________\nLayer (type)                 Output Shape              Param #   \n=================================================================\nlambda_1 (Lambda)            (None, 160, 320, 3)       0         \n_________________________________________________________________\ncropping2d_1 (Cropping2D)    (None, 75, 320, 3)        0         \n_________________________________________________________________\nconv2d_1 (Conv2D)            (None, 36, 158, 24)       1824      \n_________________________________________________________________\nconv2d_2 (Conv2D)            (None, 16, 77, 36)        21636     \n_________________________________________________________________\nconv2d_3 (Conv2D)            (None, 6, 37, 48)         43248     \n_________________________________________________________________\nconv2d_4 (Conv2D)            (None, 4, 35, 64)         27712     \n_________________________________________________________________\nconv2d_5 (Conv2D)            (None, 2, 33, 64)         36928     \n_________________________________________________________________\nflatten_1 (Flatten)          (None, 4224)              0         \n_________________________________________________________________\ndense_1 (Dense)              (None, 100)               422500    \n_________________________________________________________________\ndense_2 (Dense)              (None, 50)                5050      \n_________________________________________________________________\ndense_3 (Dense)              (None, 10)                510       \n_________________________________________________________________\ndense_4 (Dense)              (None, 1)                 11        \n=================================================================\nTotal params: 559,419\nTrainable params: 559,419\nNon-trainable params: 0\n_________________________________________________________________\n"
    }
   ],
   "source": [
    "raw_image_shape = (160,320,3)\n",
    "model = nvidiaCNN(raw_image_shape)"
   ]
  },
  {
   "cell_type": "code",
   "execution_count": 16,
   "metadata": {},
   "outputs": [],
   "source": [
    "model.compile(loss='mse', optimizer='adam')"
   ]
  },
  {
   "cell_type": "code",
   "execution_count": 18,
   "metadata": {},
   "outputs": [
    {
     "output_type": "stream",
     "name": "stdout",
     "text": "Epoch 1/1\n108/108 [==============================] - 21s 194ms/step - loss: 5.4155e-04 - val_loss: 0.0851\n"
    }
   ],
   "source": [
    "history_object = model.fit_generator(train_generator, samples_per_epoch= \\\n",
    "                 len(train_samples), validation_data=validation_generator, \\\n",
    "                 nb_val_samples=len(validation_samples), nb_epoch=1, verbose=1)\n",
    "model.save('model.h5')"
   ]
  },
  {
   "cell_type": "code",
   "execution_count": null,
   "metadata": {},
   "outputs": [],
   "source": []
  }
 ],
 "metadata": {
  "language_info": {
   "codemirror_mode": {
    "name": "ipython",
    "version": 3
   },
   "file_extension": ".py",
   "mimetype": "text/x-python",
   "name": "python",
   "nbconvert_exporter": "python",
   "pygments_lexer": "ipython3",
   "version": "3.8.3-final"
  },
  "orig_nbformat": 2,
  "kernelspec": {
   "name": "python38364bitb76e2e8385824c4dabacabbab98ed631",
   "display_name": "Python 3.8.3 64-bit"
  }
 },
 "nbformat": 4,
 "nbformat_minor": 2
}